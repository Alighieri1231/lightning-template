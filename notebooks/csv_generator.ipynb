{
 "cells": [
  {
   "cell_type": "code",
   "execution_count": 9,
   "metadata": {},
   "outputs": [
    {
     "name": "stdout",
     "output_type": "stream",
     "text": [
      "Train CSV saved to /Users/emilio/Library/CloudStorage/Box-Box/GitHub/lightning-template/results/train_maddie.csv\n",
      "Test CSV saved to /Users/emilio/Library/CloudStorage/Box-Box/GitHub/lightning-template/results/test_maddie.csv\n"
     ]
    }
   ],
   "source": [
    "import os\n",
    "import pandas as pd\n",
    "import random\n",
    "from pathlib import Path\n",
    "import natsort\n",
    "# Define the paths\n",
    "results_folder = \"/Users/emilio/Library/CloudStorage/Box-Box/GitHub/lightning-template/results\"\n",
    "data_folder = \"/Users/emilio/Library/CloudStorage/Box-Box/GitHub/lightning-template/data/128x128x128_maddie\"  # Replace with the folder where your .npz files are located\n",
    "\n",
    "# Create the results folder if it doesn't exist\n",
    "os.makedirs(results_folder, exist_ok=True)\n",
    "\n",
    "# List all .npz files\n",
    "all_files = [f for f in os.listdir(data_folder) if f.endswith(\"_gt.npy\")]\n",
    "\n",
    "# Group files by the number prefix before \"_sweep\"\n",
    "grouped_files = {}\n",
    "for file in all_files:\n",
    "    #prefix = file.split(\"_sweep\")[0]\n",
    "    prefix=file[0:3]\n",
    "    prefix = '0'+prefix if '_' in prefix else prefix\n",
    "    prefix=prefix.split('_')[0]\n",
    "    if prefix not in grouped_files:\n",
    "        grouped_files[prefix] = []\n",
    "    grouped_files[prefix].append(file)\n",
    "\n",
    "# Split into train and test sets\n",
    "train_files = []\n",
    "test_files = []\n",
    "for group, files in grouped_files.items():\n",
    "    if random.random() < 0.05:  # Assign 10% of groups to test\n",
    "        test_files.extend(files)\n",
    "    else:\n",
    "        train_files.extend(files)\n",
    "\n",
    "# Save train and test files to CSV\n",
    "train_csv_path = Path(results_folder) / \"train_maddie.csv\"\n",
    "test_csv_path = Path(results_folder) / \"test_maddie.csv\"\n",
    "\n",
    "# Sort the files\n",
    "train_files = natsort.natsorted(train_files)\n",
    "test_files = natsort.natsorted(test_files)\n",
    "\n",
    "train_df = pd.DataFrame({\"file_name\": train_files})\n",
    "train_df.to_csv(train_csv_path, index=False)\n",
    "\n",
    "test_df = pd.DataFrame({\"file_name\": test_files})\n",
    "test_df.to_csv(test_csv_path, index=False)\n",
    "\n",
    "print(f\"Train CSV saved to {train_csv_path}\")\n",
    "print(f\"Test CSV saved to {test_csv_path}\")\n"
   ]
  }
 ],
 "metadata": {
  "kernelspec": {
   "display_name": "lightning",
   "language": "python",
   "name": "python3"
  },
  "language_info": {
   "codemirror_mode": {
    "name": "ipython",
    "version": 3
   },
   "file_extension": ".py",
   "mimetype": "text/x-python",
   "name": "python",
   "nbconvert_exporter": "python",
   "pygments_lexer": "ipython3",
   "version": "3.12.7"
  }
 },
 "nbformat": 4,
 "nbformat_minor": 2
}
