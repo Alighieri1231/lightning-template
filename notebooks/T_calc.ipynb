{
 "cells": [
  {
   "cell_type": "code",
   "execution_count": 10,
   "metadata": {},
   "outputs": [
    {
     "name": "stdout",
     "output_type": "stream",
     "text": [
      "El valor global de T es: 33\n"
     ]
    }
   ],
   "source": [
    "import os\n",
    "import numpy as np\n",
    "import torch\n",
    "\n",
    "# Ruta de la carpeta donde están los archivos\n",
    "data_dir = \"/Users/emilio/Library/CloudStorage/Box-Box/GitHub/lightning-template/data/128x128x128_maddie\"\n",
    "\n",
    "# Inicializar una lista para almacenar los tamaños mínimos de las estructuras\n",
    "T_values = []\n",
    "\n",
    "# Iterar sobre todos los archivos en la carpeta\n",
    "for file_name in os.listdir(data_dir):\n",
    "    if file_name.endswith(\"_label.npy\"):  # Filtrar solo los archivos de etiquetas\n",
    "        # Cargar el archivo .npy como un tensor de PyTorch\n",
    "        label_path = os.path.join(data_dir, file_name)\n",
    "        label_volume = np.load(label_path)\n",
    "        label_tensor = torch.tensor(label_volume, dtype=torch.float32)  # Convertir a tensor flotante\n",
    "        \n",
    "        if torch.sum(label_tensor)==0:\n",
    "            continue\n",
    "        # Calcular las proyecciones en los tres planos\n",
    "        G_axial = torch.sum(label_tensor, dim=2)      # Proyección axial (sumar a lo largo del eje Z)\n",
    "        G_sagittal = torch.sum(label_tensor, dim=0)   # Proyección sagital (sumar a lo largo del eje Y)\n",
    "        G_coronal = torch.sum(label_tensor, dim=1)    # Proyección coronal (sumar a lo largo del eje X)\n",
    "\n",
    "        # Calcular el tamaño de la estructura en cada proyección (número de píxeles no cero)\n",
    "        size_axial = torch.sum(G_axial > 0).item()    # Número de píxeles no cero en axial\n",
    "        size_sagittal = torch.sum(G_sagittal > 0).item()  # Número de píxeles no cero en sagital\n",
    "        size_coronal = torch.sum(G_coronal > 0).item()    # Número de píxeles no cero en coronal\n",
    "\n",
    "        # Encontrar el tamaño más pequeño entre las tres proyecciones\n",
    "        T_i = min(size_axial, size_sagittal, size_coronal)\n",
    "\n",
    "        # Agregar T_i a la lista\n",
    "        T_values.append(T_i)\n",
    "\n",
    "# Calcular el valor global de T (el mínimo de todos los T_i)\n",
    "T_global = min(T_values)\n",
    "\n",
    "# Imprimir el resultado\n",
    "print(f\"El valor global de T es: {T_global}\")\n"
   ]
  }
 ],
 "metadata": {
  "kernelspec": {
   "display_name": "lightning",
   "language": "python",
   "name": "python3"
  },
  "language_info": {
   "codemirror_mode": {
    "name": "ipython",
    "version": 3
   },
   "file_extension": ".py",
   "mimetype": "text/x-python",
   "name": "python",
   "nbconvert_exporter": "python",
   "pygments_lexer": "ipython3",
   "version": "3.12.7"
  }
 },
 "nbformat": 4,
 "nbformat_minor": 2
}
